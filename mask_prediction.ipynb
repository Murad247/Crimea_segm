{
 "cells": [
  {
   "cell_type": "code",
   "execution_count": 1,
   "id": "75fa1864",
   "metadata": {},
   "outputs": [],
   "source": [
    "import tensorflow as tf, tensorflow_addons as tfa\n",
    "from tensorflow.keras.models import load_model\n",
    "from tensorflow.keras.layers import Dropout\n",
    "from tensorflow.keras import backend as K\n",
    "from tensorflow.keras.preprocessing import image\n",
    "import numpy as np\n",
    "import os\n",
    "from PIL import Image, ImageOps\n",
    "import cv2\n",
    "from tqdm import tqdm\n",
    "\n",
    "os.environ['TF_FORCE_GPU_ALLOW_GROWTH'] = 'true'"
   ]
  },
  {
   "cell_type": "code",
   "execution_count": 2,
   "id": "1712694d",
   "metadata": {
    "code_folding": [
     2,
     12,
     19,
     25
    ]
   },
   "outputs": [
    {
     "name": "stdout",
     "output_type": "stream",
     "text": [
      "CPU times: total: 38.1 s\n",
      "Wall time: 37.5 s\n"
     ]
    },
    {
     "data": {
      "text/plain": [
       "[<keras.engine.functional.Functional at 0x1576e66e7c0>,\n",
       " <keras.engine.functional.Functional at 0x1576eebe640>,\n",
       " <keras.engine.functional.Functional at 0x157aa531070>,\n",
       " <keras.engine.functional.Functional at 0x157a91b6400>,\n",
       " <keras.engine.functional.Functional at 0x157ab320430>]"
      ]
     },
     "execution_count": 2,
     "metadata": {},
     "output_type": "execute_result"
    }
   ],
   "source": [
    "%%time\n",
    "\n",
    "class FixedDropout(Dropout):\n",
    "    def _get_noise_shape(self, inputs):\n",
    "        if self.noise_shape is None:\n",
    "            return self.noise_shape\n",
    "\n",
    "        symbolic_shape = backend.shape(inputs)\n",
    "        noise_shape = [symbolic_shape[axis] if shape is None else shape\n",
    "                        for axis, shape in enumerate(self.noise_shape)]\n",
    "        return tuple(noise_shape)\n",
    "    \n",
    "def dice_coef(y_true, y_pred, smooth=1.):\n",
    "    y_true_f = K.flatten(y_true)\n",
    "    y_pred_f = K.flatten(y_pred)\n",
    "    intersection = K.sum(y_true_f * y_pred_f)\n",
    "    return (2. * intersection + smooth) / (\n",
    "                K.sum(y_true_f) + K.sum(y_pred_f) + smooth)\n",
    "\n",
    "def jaccard_coef(y_true, y_pred):\n",
    "    intersection = K.sum(y_true * y_pred)\n",
    "    union = K.sum(y_true + y_pred)\n",
    "    jac = (intersection + 1.) / (union - intersection + 1.)\n",
    "    return K.mean(jac)\n",
    "\n",
    "def jaccard_distance(y_true, y_pred, smooth=100):\n",
    "    \"\"\" Calculates mean of Jaccard distance as a loss function \"\"\"\n",
    "    intersection = tf.reduce_sum(y_true * y_pred, axis=(1,2))\n",
    "    sum_ = tf.reduce_sum(y_true + y_pred, axis=(1,2))\n",
    "    jac = (intersection + smooth) / (sum_ - intersection + smooth)\n",
    "    jd =  (1 - jac) * smooth\n",
    "    return tf.reduce_mean(jd)\n",
    "learning_rate = 0.0001\n",
    "weight_decay = 0.000001\n",
    "\n",
    "optimizer = tfa.optimizers.AdamW(learning_rate=learning_rate, \n",
    "                                 weight_decay=weight_decay)\n",
    "\n",
    "paths = [r'D:\\models\\crimea\\models2\\models\\model_door_Unet_512_11.h5', \n",
    "         r'D:\\models\\crimea\\models2\\models\\model_door_512_0.9108.h5', \n",
    "         r'D:\\models\\crimea\\models2\\models\\model_wall_Unet_512_43.h5',\n",
    "         r'D:\\models\\crimea\\models2\\models\\model_wall_512_22.h5',\n",
    "         r'D:\\models\\crimea\\models2\\models\\model_window_512_0.8811.h5']\n",
    "\n",
    "models = [load_model(name, custom_objects={'jaccard_distance':jaccard_distance,\n",
    "                                            'jaccard_coef':jaccard_coef,\n",
    "                                            'dice_coef':dice_coef,\n",
    "                                            'FixedDropout':FixedDropout(rate=0.2)}) \n",
    "          for name in paths]\n",
    "models"
   ]
  },
  {
   "cell_type": "code",
   "execution_count": 4,
   "id": "41597409",
   "metadata": {
    "scrolled": true
   },
   "outputs": [
    {
     "name": "stderr",
     "output_type": "stream",
     "text": [
      "100%|██████████| 1500/1500 [11:14<00:00,  2.22it/s]\n"
     ]
    }
   ],
   "source": [
    "from PIL import Image, ImageEnhance\n",
    "        \n",
    "path = r'F:\\Crimea\\_test_'\n",
    "names = os.listdir(path)\n",
    "mask_door = np.zeros((512, 512, 3))\n",
    "mask_wall = np.zeros((512, 512, 3))\n",
    "mask_window = np.zeros((512, 512, 3))\n",
    "D = 3\n",
    "\n",
    "factor = 1.5\n",
    "\n",
    "for name in tqdm(names[0:]):    \n",
    "    size = Image.open(os.path.join(path, name)).size\n",
    "    img_path = os.path.join(path, name)\n",
    "    img = Image.open(img_path).resize((512, 512))\n",
    "    if len(img.size) == 2:\n",
    "        img = img.convert('RGB')\n",
    "    enhancer = ImageEnhance.Sharpness(img)\n",
    "    img = enhancer.enhance(factor)\n",
    "\n",
    "    img_tensor = np.array(img, dtype=np.float64)\n",
    "    img_tensor = np.expand_dims(img_tensor, axis=0)\n",
    "\n",
    "    img_tensor /= 255.\n",
    "    \n",
    "    pred_door_unet = models[0].predict(img_tensor)[0]\n",
    "    pred_door_unet = np.uint8(pred_door_unet * 255)\n",
    "    pred_door_unet[pred_door_unet > 128] = 80\n",
    "    pred_door_unet[pred_door_unet != 80] = 0\n",
    "    \n",
    "    pred_door_pspnet = models[1].predict(img_tensor)[0]\n",
    "    pred_door_pspnet = np.uint8(pred_door_pspnet * 255)\n",
    "    pred_door_pspnet[pred_door_pspnet > 128] = 80\n",
    "    pred_door_pspnet[pred_door_pspnet != 80] = 0\n",
    "    \n",
    "    pred_door = cv2.bitwise_and(pred_door_unet, pred_door_pspnet)\n",
    "    \n",
    "    mask_door[:,:,0] = pred_door[:,:,]\n",
    "    mask_door[:,:,1] = pred_door[:,:,]\n",
    "    mask_door[:,:,2] = pred_door[:,:,]\n",
    "\n",
    "        \n",
    "    pred_wall_unet = models[2].predict(img_tensor)[0]\n",
    "    pred_wall_unet = np.uint8(pred_wall_unet * 255)\n",
    "    pred_wall_unet[pred_wall_unet > 128] = 255\n",
    "    pred_wall_unet[pred_wall_unet < 255] = 0\n",
    "    \n",
    "    pred_wall_pspnet = models[3].predict(img_tensor)[0]\n",
    "    pred_wall_pspnet = np.uint8(pred_wall_pspnet * 255)\n",
    "    pred_wall_pspnet[pred_wall_pspnet > 128] = 255\n",
    "    pred_wall_pspnet[pred_wall_pspnet < 255] = 0\n",
    "    \n",
    "    pred_wall = cv2.bitwise_and(pred_wall_unet, pred_wall_pspnet)\n",
    "    \n",
    "    mask_wall[:,:,0] = pred_wall\n",
    "    mask_wall[:,:,1] = pred_wall\n",
    "    mask_wall[:,:,2] = pred_wall\n",
    "    \n",
    "\n",
    "    pred_window = models[4].predict(img_tensor)[0]\n",
    "    pred_window = cv2.resize(pred_window, (512, 512))\n",
    "    pred_window = np.uint8(pred_window * 255)\n",
    "    pred_window[pred_window > 128] = 160\n",
    "    pred_window[pred_window != 160] = 0\n",
    "    \n",
    "    \n",
    "    mask_window[:,:,0] = pred_window\n",
    "    mask_window[:,:,1] = pred_window\n",
    "    mask_window[:,:,2] = pred_window\n",
    "\n",
    "    mask_door = cv2.resize(mask_door, (512, 512))\n",
    "    mask_wall = cv2.resize(mask_wall, (512, 512))\n",
    "    mask_window = cv2.resize(mask_window, (512, 512))\n",
    "    \n",
    "    masked = cv2.bitwise_or(mask_wall, mask_window)\n",
    "    masked = np.uint8(cv2.bitwise_or(masked, mask_door))\n",
    "    \n",
    "    masked[masked==255] = 1\n",
    "    masked[masked==160] = 2\n",
    "    masked[masked==80 ] = 3\n",
    "    masked[masked > 3 ] = 0\n",
    "    \n",
    "    im = Image.fromarray(masked).resize(size)\n",
    "    im.save(f'F:/Crimea/submit/{name}')"
   ]
  },
  {
   "cell_type": "code",
   "execution_count": null,
   "id": "54c44669",
   "metadata": {},
   "outputs": [],
   "source": []
  }
 ],
 "metadata": {
  "hide_input": false,
  "kernelspec": {
   "display_name": "Python 3 (ipykernel)",
   "language": "python",
   "name": "python3"
  },
  "language_info": {
   "codemirror_mode": {
    "name": "ipython",
    "version": 3
   },
   "file_extension": ".py",
   "mimetype": "text/x-python",
   "name": "python",
   "nbconvert_exporter": "python",
   "pygments_lexer": "ipython3",
   "version": "3.8.13"
  }
 },
 "nbformat": 4,
 "nbformat_minor": 5
}
