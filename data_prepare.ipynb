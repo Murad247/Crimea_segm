{
 "cells": [
  {
   "cell_type": "code",
   "execution_count": 23,
   "id": "fb41ff7d",
   "metadata": {
    "code_folding": [],
    "scrolled": true
   },
   "outputs": [
    {
     "name": "stderr",
     "output_type": "stream",
     "text": [
      "100%|██████████| 3452/3452 [00:52<00:00, 66.04it/s]\n"
     ]
    }
   ],
   "source": [
    "import os\n",
    "from tqdm import tqdm\n",
    "import cv2\n",
    "import matplotlib.pyplot as plt\n",
    "import numpy as np\n",
    "\n",
    "imgs_path = r'F:\\Crimea\\train\\images'\n",
    "masks_path = r'F:\\Crimea\\train\\masks'\n",
    "names = os.listdir(imgs_path)\n",
    "for i, name in tqdm(enumerate(names), total=len(names)):\n",
    "    mask = cv2.imread(os.path.join(masks_path, name), 0)\n",
    "    \n",
    "    wall = mask.copy()\n",
    "    wall[wall==1] = 255\n",
    "    wall[wall==2] = 0\n",
    "    wall[wall==3] = 0\n",
    "    if np.sum(wall) != 0:\n",
    "        cv2.imwrite(f'F:/Crimea/data/wall/masks/{name}', wall)\n",
    "    \n",
    "    window = mask.copy()\n",
    "    window[window==1] = 0\n",
    "    window[window==2] = 255\n",
    "    window[window==3] = 0\n",
    "    if np.sum(window) != 0:\n",
    "        cv2.imwrite(f'F:/Crimea/data/window/masks/{name}', window)\n",
    "    \n",
    "    door = mask.copy()\n",
    "    door[door==1] = 0\n",
    "    door[door==2] = 0\n",
    "    door[door==3] = 255\n",
    "    if np.sum(door) != 0:\n",
    "        cv2.imwrite(f'F:/Crimea/data/door/masks/{name}', door)"
   ]
  },
  {
   "cell_type": "code",
   "execution_count": 3,
   "id": "7f439fcb",
   "metadata": {},
   "outputs": [
    {
     "name": "stderr",
     "output_type": "stream",
     "text": [
      "100%|██████████| 3442/3442 [00:01<00:00, 1951.18it/s]\n",
      "100%|██████████| 2214/2214 [00:01<00:00, 1984.77it/s]\n",
      "100%|██████████| 2926/2926 [00:01<00:00, 1912.77it/s]\n"
     ]
    }
   ],
   "source": [
    "import shutil\n",
    "import os\n",
    "from tqdm import tqdm\n",
    "\n",
    "src = r'F:\\Crimea\\images'\n",
    "path = r'F:\\Crimea\\data\\wall\\masks'\n",
    "dest = r'F:\\Crimea\\data\\wall\\images'\n",
    "\n",
    "names = os.listdir(path)\n",
    "\n",
    "for name in tqdm(names):\n",
    "    shutil.copy(os.path.join(src, name), os.path.join(dest, name))\n",
    "    \n",
    "    \n",
    "path = r'F:\\Crimea\\data\\window\\masks'\n",
    "dest = r'F:\\Crimea\\data\\window\\images'\n",
    "\n",
    "names = os.listdir(path)\n",
    "\n",
    "for name in tqdm(names):\n",
    "    shutil.copy(os.path.join(src, name), os.path.join(dest, name))\n",
    "    \n",
    "\n",
    "path = r'F:\\Crimea\\data\\door\\masks'\n",
    "dest = r'F:\\Crimea\\data\\door\\images'\n",
    "\n",
    "names = os.listdir(path)\n",
    "\n",
    "for name in tqdm(names):\n",
    "    shutil.copy(os.path.join(src, name), os.path.join(dest, name))"
   ]
  },
  {
   "cell_type": "code",
   "execution_count": 1,
   "id": "b6caefa6",
   "metadata": {},
   "outputs": [
    {
     "name": "stderr",
     "output_type": "stream",
     "text": [
      "100%|██████████| 688/688 [00:00<00:00, 3206.65it/s]\n",
      "100%|██████████| 442/442 [00:00<00:00, 3093.59it/s]\n",
      "100%|██████████| 585/585 [00:00<00:00, 3246.49it/s]\n"
     ]
    }
   ],
   "source": [
    "import shutil\n",
    "import os\n",
    "from tqdm import tqdm\n",
    "\n",
    "path = r'F:\\Crimea\\data\\wall'\n",
    "names = os.listdir(os.path.join(path, 'train', 'masks'))\n",
    "for i in tqdm(range(int(len(names) * 0.2))):\n",
    "    shutil.move(os.path.join(path, 'train', 'images', names[i]), os.path.join(path, 'test', 'images', names[i]))\n",
    "    shutil.move(os.path.join(path, 'train', 'masks', names[i]), os.path.join(path, 'test', 'masks', names[i]))\n",
    "    \n",
    "path = r'F:\\Crimea\\data\\window'\n",
    "names = os.listdir(os.path.join(path, 'train', 'masks'))\n",
    "for i in tqdm(range(int(len(names) * 0.2))):\n",
    "    shutil.move(os.path.join(path, 'train', 'images', names[i]), os.path.join(path, 'test', 'images', names[i]))\n",
    "    shutil.move(os.path.join(path, 'train', 'masks', names[i]), os.path.join(path, 'test', 'masks', names[i]))\n",
    "    \n",
    "path = r'F:\\Crimea\\data\\door'\n",
    "names = os.listdir(os.path.join(path, 'train', 'masks'))\n",
    "for i in tqdm(range(int(len(names) * 0.2))):\n",
    "    shutil.move(os.path.join(path, 'train', 'images', names[i]), os.path.join(path, 'test', 'images', names[i]))\n",
    "    shutil.move(os.path.join(path, 'train', 'masks', names[i]), os.path.join(path, 'test', 'masks', names[i]))"
   ]
  },
  {
   "cell_type": "code",
   "execution_count": null,
   "id": "2bbb3b31",
   "metadata": {},
   "outputs": [],
   "source": []
  }
 ],
 "metadata": {
  "hide_input": false,
  "kernelspec": {
   "display_name": "Python 3 (ipykernel)",
   "language": "python",
   "name": "python3"
  },
  "language_info": {
   "codemirror_mode": {
    "name": "ipython",
    "version": 3
   },
   "file_extension": ".py",
   "mimetype": "text/x-python",
   "name": "python",
   "nbconvert_exporter": "python",
   "pygments_lexer": "ipython3",
   "version": "3.8.13"
  }
 },
 "nbformat": 4,
 "nbformat_minor": 5
}
